{
 "cells": [
  {
   "cell_type": "markdown",
   "metadata": {},
   "source": [
    "Om Yolov8 te kunnen gebruiken, hebben we een dataset nodig. Hiervoor moeten we eerst roboflow installeren"
   ]
  },
  {
   "cell_type": "code",
   "execution_count": null,
   "metadata": {},
   "outputs": [],
   "source": [
    "pip install roboflow"
   ]
  },
  {
   "cell_type": "markdown",
   "metadata": {},
   "source": [
    "Nadat we roboflow hebben geinstalleerd.  Voor dit opdracht gaan we de volgende dataset met verschillende afbeeldingem van giraffen en zebra's gebruiken: https://universe.roboflow.com/yolov8-mqwel/animaldetection_yolov8/dataset/3# \n"
   ]
  },
  {
   "cell_type": "markdown",
   "metadata": {},
   "source": [
    "Om deze dataset te downloaden, kan je de volgende stappen volgen:"
   ]
  },
  {
   "cell_type": "markdown",
   "metadata": {},
   "source": [
    "1. Klik op YOLOv8"
   ]
  },
  {
   "cell_type": "markdown",
   "metadata": {},
   "source": [
    "![Alt text](image.png)"
   ]
  },
  {
   "cell_type": "markdown",
   "metadata": {},
   "source": [
    "2. Klik op de optie \"show download code\""
   ]
  },
  {
   "cell_type": "markdown",
   "metadata": {},
   "source": [
    "![Alt text](image-1.png)"
   ]
  },
  {
   "cell_type": "markdown",
   "metadata": {},
   "source": [
    "Als het goed is, krijgt je de volgende code:"
   ]
  },
  {
   "cell_type": "code",
   "execution_count": null,
   "metadata": {},
   "outputs": [],
   "source": [
    "from roboflow import Roboflow\n",
    "rf = Roboflow(api_key=\"YOUR_API_KEY\") #Kopieer en plaak je API key hier\n",
    "project = rf.workspace(\"yolov8-mqwel\").project(\"animaldetection_yolov8\")\n",
    "dataset = project.version(3).download(\"yolov8\")"
   ]
  },
  {
   "cell_type": "markdown",
   "metadata": {},
   "source": [
    "Als je de bovenste code uitvoeren, krijgt je een nieuwe map met de naam \"AnimalDetection_YOLOv8\""
   ]
  },
  {
   "cell_type": "markdown",
   "metadata": {},
   "source": [
    "\n",
    "Note: We kunnen ook een custom dataset gebruiken. Hierdoor moeten we een set van afbeeldingen downloaden en de annotaties aan deze afbeeldigen toevoegen met externe tools als CVAT of Roboflow annotations. "
   ]
  },
  {
   "cell_type": "markdown",
   "metadata": {},
   "source": [
    "Nadat we de dataset hebben gedownload, kunnen we YOLOv8 gebruiken met de volgende codes:"
   ]
  },
  {
   "cell_type": "code",
   "execution_count": null,
   "metadata": {},
   "outputs": [],
   "source": [
    "pip install ultralytics"
   ]
  },
  {
   "cell_type": "raw",
   "metadata": {},
   "source": [
    "from ultralytics import YOLO\n",
    "\n",
    "#Load model\n",
    "model = YOLO(\"yolov8n.pt\") \n",
    "\n",
    "#Train: Hierbij traint je de algoritme van YOLO.v8 om de afbeeldingen van je dataset te herkennen\n",
    "results = model.train(data='data.yaml', epochs=3)\n",
    "\n",
    "#Validation: Hierbij gaat je controleren dat YOLO.v8 goed werd getraind. \n",
    "results = model.val()"
   ]
  },
  {
   "cell_type": "markdown",
   "metadata": {},
   "source": [
    "Maar Yolov8 kan niet voor zichzelf de bestanden van de gekozen dataset zoeken. Hierdoor moet je een .yaml bestand coderen.\n"
   ]
  },
  {
   "cell_type": "markdown",
   "metadata": {},
   "source": [
    "Een .yaml bestand geeft de instructie aan de computer om de bestanden van de dataset te vinden. Als je een .yaml schrijft moet op de volgende manier eruit zien:"
   ]
  },
  {
   "cell_type": "code",
   "execution_count": null,
   "metadata": {},
   "outputs": [],
   "source": [
    "#data.yaml\n",
    "#Met de argument \"path\" geeft je aan de computer de instructie om de dataset in je directory te vinden\n",
    "path: PATH\\THROUGH\\YOUR\\DIRECTORY\\AnimalDetection_YOLOv8-3\n",
    " \n",
    "#Hierbij geeft je aan de computer de complementaire directory om \"train data\" en \"validation data\" te vinden\n",
    "train: train\\images\n",
    "val: valid\\images\n",
    "\n",
    "# Classes: Hierbij geeft je aan YOLO.v8 met de argument \"names\" de naam van de elementen dat je wil herkennen en met de argument \"nc\" geeft je aan YOLO.v8 het aantal objecten dat je wilt herkenen\n",
    "names:\n",
    "- Giraffe\n",
    "- Zebra\n",
    "nc: 2"
   ]
  },
  {
   "cell_type": "markdown",
   "metadata": {},
   "source": [
    "Nadat we de .yaml bestand hebben gecodeerd, kunnen we de volgende code uitvoeren:"
   ]
  },
  {
   "cell_type": "code",
   "execution_count": null,
   "metadata": {},
   "outputs": [],
   "source": [
    "from ultralytics import YOLO\n",
    "\n",
    "#Load model\n",
    "model = YOLO(\"yolov8n.pt\") \n",
    "\n",
    "#Train: Hierbij traint je de algoritme van YOLO.v8 om de afbeeldingen van je dataset te herkennen\n",
    "results = model.train(data='data.yaml', epochs=3)\n",
    "\n",
    "#Validation: Hierbij gaat je controleren dat YOLO.v8 goed werd getraind. \n",
    "results = model.val()"
   ]
  },
  {
   "cell_type": "markdown",
   "metadata": {},
   "source": [
    "Nadat je de algoritme van YOLOv8 met de foto's van de dataset heb getraind, krijgt je een nieuwe map met de naam \"runs\" in je directory."
   ]
  },
  {
   "cell_type": "markdown",
   "metadata": {},
   "source": [
    "![Alt text](image-2.png)"
   ]
  },
  {
   "cell_type": "markdown",
   "metadata": {},
   "source": [
    "In deze map kan je de verschillende train modellen van de dataset zien"
   ]
  },
  {
   "cell_type": "markdown",
   "metadata": {},
   "source": [
    "![Alt text](image-3.png)"
   ]
  },
  {
   "cell_type": "markdown",
   "metadata": {},
   "source": [
    "Als je op een van deze mappen klikt, kan de resultaten en \"weights\" van je getrainde model zien"
   ]
  },
  {
   "cell_type": "markdown",
   "metadata": {},
   "source": [
    "![Alt text](image-4.png)"
   ]
  },
  {
   "cell_type": "markdown",
   "metadata": {},
   "source": [
    "Nadat je je beste getrainde model heb gevonden, kan je je getrainde model gebruiken om giraffen en zebra's van youtube videos te herkennen. Hiervoor heb je de volgende code nodig: "
   ]
  },
  {
   "cell_type": "code",
   "execution_count": null,
   "metadata": {},
   "outputs": [],
   "source": [
    "from ultralytics import YOLO\n",
    "\n",
    "model_path = \"path\\\\to\\\\best.pt\" #Hierbij geeft je de instructie aan de computer om de beste weights van je getrainde model in de directory van je computer te vinden\n",
    "#Load model\n",
    "model = YOLO(model_path) \n",
    "\n",
    "# Perform tracking with the model\n",
    "results = model.track(source=\"https://www.youtube.com/watch?v=rDKkxy7H5jU\", show=True)"
   ]
  }
 ],
 "metadata": {
  "kernelspec": {
   "display_name": "Python 3",
   "language": "python",
   "name": "python3"
  },
  "language_info": {
   "codemirror_mode": {
    "name": "ipython",
    "version": 3
   },
   "file_extension": ".py",
   "mimetype": "text/x-python",
   "name": "python",
   "nbconvert_exporter": "python",
   "pygments_lexer": "ipython3",
   "version": "3.11.4"
  }
 },
 "nbformat": 4,
 "nbformat_minor": 2
}
